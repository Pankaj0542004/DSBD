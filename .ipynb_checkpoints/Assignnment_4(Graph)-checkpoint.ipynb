{
 "cells": [
  {
   "cell_type": "code",
   "execution_count": 1,
   "id": "0692397a-3612-47c7-b8fd-b4a221ca13c1",
   "metadata": {},
   "outputs": [
    {
     "name": "stdout",
     "output_type": "stream",
     "text": [
      "Coloring: [1, 2, 3, 1]\n"
     ]
    }
   ],
   "source": [
    "def is_safe(node, color, graph, colors):\n",
    "    for neighbor in graph[node]:\n",
    "        if colors[neighbor] == color:\n",
    "            return False\n",
    "    return True\n",
    "\n",
    "def graph_coloring(graph, num_colors, colors, node=0):\n",
    "    # If all nodes are colored, return True\n",
    "    if node == len(graph):\n",
    "        print(\"Coloring:\", colors)\n",
    "        return True\n",
    "\n",
    "    # Try assigning each color to the current node\n",
    "    for color in range(1, num_colors + 1):\n",
    "        if is_safe(node, color, graph, colors):\n",
    "            colors[node] = color  # Assign color\n",
    "            if graph_coloring(graph, num_colors, colors, node + 1):  # Recur for next node\n",
    "                return True\n",
    "            colors[node] = 0  # Backtrack if this color doesn't lead to a solution\n",
    "\n",
    "    return False\n",
    "\n",
    "# Define the graph as an adjacency list\n",
    "graph = {\n",
    "    0: [1, 2],\n",
    "    1: [0, 2, 3],\n",
    "    2: [0, 1, 3],\n",
    "    3: [1, 2]\n",
    "}\n",
    "\n",
    "# Number of colors\n",
    "num_colors = 3\n",
    "\n",
    "# Array to store colors of nodes (0 means no color)\n",
    "colors = [0] * len(graph)\n",
    "\n",
    "# Solve the graph coloring problem\n",
    "if not graph_coloring(graph, num_colors, colors):\n",
    "    print(\"No solution found\")\n"
   ]
  },
  {
   "cell_type": "code",
   "execution_count": null,
   "id": "6ab80907-dca0-49dc-a321-b419ea700fb6",
   "metadata": {},
   "outputs": [],
   "source": []
  }
 ],
 "metadata": {
  "kernelspec": {
   "display_name": "Python 3 (ipykernel)",
   "language": "python",
   "name": "python3"
  },
  "language_info": {
   "codemirror_mode": {
    "name": "ipython",
    "version": 3
   },
   "file_extension": ".py",
   "mimetype": "text/x-python",
   "name": "python",
   "nbconvert_exporter": "python",
   "pygments_lexer": "ipython3",
   "version": "3.11.6"
  }
 },
 "nbformat": 4,
 "nbformat_minor": 5
}
