{
 "cells": [
  {
   "cell_type": "code",
   "execution_count": 1,
   "id": "1b189693-5390-48ef-afcb-9427d8511c48",
   "metadata": {},
   "outputs": [
    {
     "name": "stdout",
     "output_type": "stream",
     "text": [
      "The optimum value is: 7\n"
     ]
    }
   ],
   "source": [
    "\n",
    "# Initial values of Alpha and Beta\n",
    "MAX, MIN = 10000000, -10000000\n",
    "\n",
    "def minimax(depth, index, maximizingPlayer, values, alpha, beta):\n",
    "    # Terminating condition: Check if the depth is the leaf node\n",
    "    if depth == 3:\n",
    "        return values[index]\n",
    "\n",
    "    if maximizingPlayer:\n",
    "        optimum = MIN\n",
    "        # Recursion for left and right children\n",
    "        for i in range(2):  # 0 and 1\n",
    "            val = minimax(depth + 1, index * 2 + i, False, values, alpha, beta)\n",
    "            optimum = max(optimum, val)\n",
    "            alpha = max(alpha, optimum)\n",
    "            # Alpha-Beta Pruning condition\n",
    "            if beta <= alpha:\n",
    "                break\n",
    "        return optimum\n",
    "    else:\n",
    "        optimum = MAX\n",
    "        # Recursion for left and right children\n",
    "        for i in range(2):  # 0 and 1\n",
    "            val = minimax(depth + 1, index * 2 + i, True, values, alpha, beta)\n",
    "            optimum = min(optimum, val)\n",
    "            beta = min(beta, optimum)\n",
    "            # Alpha-Beta Pruning condition\n",
    "            if beta <= alpha:\n",
    "                break\n",
    "        return optimum\n",
    "\n",
    "\n",
    "if __name__ == \"__main__\":\n",
    "    values = [5, 7, 12, 6, 3, 18, -9, 4]\n",
    "    print(\"The optimum value is:\", minimax(0, 0, True, values, MIN, MAX))"
   ]
  },
  {
   "cell_type": "code",
   "execution_count": null,
   "id": "272f9129-6686-4afa-b456-35632e6782b0",
   "metadata": {},
   "outputs": [],
   "source": []
  }
 ],
 "metadata": {
  "kernelspec": {
   "display_name": "Python 3 (ipykernel)",
   "language": "python",
   "name": "python3"
  },
  "language_info": {
   "codemirror_mode": {
    "name": "ipython",
    "version": 3
   },
   "file_extension": ".py",
   "mimetype": "text/x-python",
   "name": "python",
   "nbconvert_exporter": "python",
   "pygments_lexer": "ipython3",
   "version": "3.11.6"
  }
 },
 "nbformat": 4,
 "nbformat_minor": 5
}
