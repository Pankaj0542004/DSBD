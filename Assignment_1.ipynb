{
 "cells": [
  {
   "cell_type": "code",
   "execution_count": 1,
   "id": "5e31d0f6-ec3c-4018-bd4d-8896ab140084",
   "metadata": {},
   "outputs": [
    {
     "name": "stdout",
     "output_type": "stream",
     "text": [
      "Path found: ['A', 'E', 'D', 'G']\n"
     ]
    },
    {
     "data": {
      "text/plain": [
       "['A', 'E', 'D', 'G']"
      ]
     },
     "execution_count": 1,
     "metadata": {},
     "output_type": "execute_result"
    }
   ],
   "source": [
    "def aStarAlgo(start_node, stop_node):\n",
    "    open_set = {start_node}  \n",
    "    closed_set = set() \n",
    "    g = {}  \n",
    "    parents = {}  \n",
    "\n",
    "    g[start_node] = 0  \n",
    "    parents[start_node] = start_node #\n",
    "\n",
    "    while open_set:  \n",
    "        n = None \n",
    "        \n",
    "        # Node with lowest f() is found\n",
    "        for v in open_set: \n",
    "            if n is None or g[v] + heuristic(v) < g[n] + heuristic(n):  \n",
    "                n = v \n",
    "                \n",
    "        if n == stop_node:  \n",
    "            path = []  \n",
    "            while parents[n] != n:  \n",
    "                path.append(n)  \n",
    "                n = parents[n]  \n",
    "            path.append(start_node)\n",
    "            path.reverse()  \n",
    "            print('Path found: {}'.format(path))  \n",
    "            return path  \n",
    "\n",
    "        for (m, weight) in get_neighbors(n):  \n",
    "            if m not in open_set and m not in closed_set: #if the neighbour_node is not found in open_set or closed_set  \n",
    "                open_set.add(m)  \n",
    "                parents[m] = n   \n",
    "                g[m] = g[n] + weight  \n",
    "            else:  #if the neighbour_node is found in open_set or closed_set\n",
    "                if g[m] > g[n] + weight:  \n",
    "                    g[m] = g[n] + weight  \n",
    "                    parents[m] = n \n",
    "                    if m in closed_set:\n",
    "                        closed_set.remove(m)  \n",
    "                        open_set.add(m)  \n",
    "\n",
    "        open_set.remove(n)  \n",
    "        closed_set.add(n)\t\n",
    "\n",
    "    print('Path does not exist!')  #if the stop_node not found \n",
    "    return None #nothing found \n",
    "\n",
    "def get_neighbors(v):  #find the neighbours of particular node\n",
    "    return Graph_nodes.get(v, [])  \n",
    "\n",
    "def heuristic(n): #function declaring dictionary of heuristic values given above node \n",
    "    H_dist = {\n",
    "        'A': 11,\n",
    "        'B': 6,\n",
    "        'C': 99,\n",
    "        'D': 1,\n",
    "        'E': 7,\n",
    "        'G': 0,\n",
    "    }\n",
    "    return H_dist.get(n, float('inf'))  #reurns the particular node's h(n) value till infinity\n",
    "\n",
    "# Define the graph\n",
    "Graph_nodes = {\n",
    "    'A': [('B', 2), ('E', 3)],\n",
    "    'B': [('C', 1), ('G', 9)],\n",
    "    'C': [],\n",
    "    'E': [('D', 6)],\n",
    "    'D': [('G', 1)],\n",
    "}\n",
    "\n",
    "# Run the A* algorithm\n",
    "aStarAlgo('A', 'G')\n",
    "\n",
    "\n"
   ]
  },
  {
   "cell_type": "code",
   "execution_count": null,
   "id": "2da24cd7-0823-4ac2-a831-3b7197eb103e",
   "metadata": {},
   "outputs": [],
   "source": []
  }
 ],
 "metadata": {
  "kernelspec": {
   "display_name": "Python 3",
   "language": "python",
   "name": "python3"
  },
  "language_info": {
   "codemirror_mode": {
    "name": "ipython",
    "version": 3
   },
   "file_extension": ".py",
   "mimetype": "text/x-python",
   "name": "python",
   "nbconvert_exporter": "python",
   "pygments_lexer": "ipython3",
   "version": "3.11.6"
  }
 },
 "nbformat": 4,
 "nbformat_minor": 5
}
